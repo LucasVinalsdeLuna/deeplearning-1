{
  "nbformat": 4,
  "nbformat_minor": 0,
  "metadata": {
    "kernelspec": {
      "display_name": "Python 3",
      "language": "python",
      "name": "python3"
    },
    "language_info": {
      "codemirror_mode": {
        "name": "ipython",
        "version": 3
      },
      "file_extension": ".py",
      "mimetype": "text/x-python",
      "name": "python",
      "nbconvert_exporter": "python",
      "pygments_lexer": "ipython3",
      "version": "3.8.5"
    },
    "colab": {
      "provenance": [],
      "include_colab_link": true
    },
    "accelerator": "GPU",
    "gpuClass": "standard"
  },
  "cells": [
    {
      "cell_type": "markdown",
      "metadata": {
        "id": "view-in-github",
        "colab_type": "text"
      },
      "source": [
        "<a href=\"https://colab.research.google.com/github/LucasVinalsdeLuna/deeplearning-1/blob/main/Copia_de_2_1_Un_primer_vistazo_a_una_Red_Neuronal.ipynb\" target=\"_parent\"><img src=\"https://colab.research.google.com/assets/colab-badge.svg\" alt=\"Open In Colab\"/></a>"
      ]
    },
    {
      "cell_type": "markdown",
      "metadata": {
        "id": "Ejg7Msp7rbkk"
      },
      "source": [
        "# Ejercicio con regularizadores"
      ]
    },
    {
      "cell_type": "code",
      "source": [
        "%tensorflow_version 2.x\n",
        "import tensorflow as tf\n",
        "from tensorflow import keras\n",
        "print(tf.keras.__version__)\n",
        "print(\"GPU Available:\", tf.config.list_physical_devices('GPU'))\n",
        "print(tf.__version__)\n",
        "from keras.datasets import mnist\n",
        "from keras import models\n",
        "from keras import layers\n",
        "import numpy as np\n",
        "import matplotlib.pyplot as plt\n",
        "from keras import regularizers"
      ],
      "metadata": {
        "id": "BSivef1i532C",
        "colab": {
          "base_uri": "https://localhost:8080/"
        },
        "outputId": "7b774b7e-68ed-4ca7-e021-76b76c13aa0e"
      },
      "execution_count": null,
      "outputs": [
        {
          "output_type": "stream",
          "name": "stdout",
          "text": [
            "Colab only includes TensorFlow 2.x; %tensorflow_version has no effect.\n",
            "2.9.0\n",
            "GPU Available: [PhysicalDevice(name='/physical_device:GPU:0', device_type='GPU')]\n",
            "2.9.2\n"
          ]
        }
      ]
    },
    {
      "cell_type": "code",
      "source": [
        "#(train_images, train_labels), (test_images, test_labels) = # Descarga los datos de MNIST\n",
        "\n",
        "from keras.datasets import mnist\n",
        "\n",
        "(train_images, train_labels), (test_images, test_labels) = mnist.load_data()"
      ],
      "metadata": {
        "id": "3t3R6gU9-wUy"
      },
      "execution_count": null,
      "outputs": []
    },
    {
      "cell_type": "code",
      "source": [
        "# Prepara con reshape y normaliza las imágenes tanto de entrenamiento como de test\n",
        "\n",
        "train_images = train_images.reshape(60000,28*28)\n",
        "test_images = test_images.reshape(10000,28*28)\n",
        "#Normalizmos los datos de test y de entranimento \n",
        "train_images = train_images.astype('float32') / 255\n",
        "test_images  = test_images.astype('float32') / 255"
      ],
      "metadata": {
        "id": "H6n5NeSz0U1d"
      },
      "execution_count": null,
      "outputs": []
    },
    {
      "cell_type": "code",
      "source": [
        "# Crear un subconjunto de imágenes de entrenamiento que llamaré\n",
        "# validation_images, para hacer las validaciones, con las 10000 últimas imágenes \n",
        "# del set de datos de entrenamiento (train_images) (obviamente, lo mismo con las\n",
        "# etiquetas correspondientes -> validation_labels). Deja preparadas las 50K \n",
        "# primeras imágenes y etiquetas para entrenamiento (train_images y train_labels)\n",
        "\n",
        "validation_images=train_images[50000:]\n",
        "train_images=train_images[:49999]\n",
        "validation_labels=train_labels[50000:]\n",
        "train_labels=train_labels[:49999]"
      ],
      "metadata": {
        "id": "NKoZGyap0XAj"
      },
      "execution_count": null,
      "outputs": []
    },
    {
      "cell_type": "code",
      "source": [
        "def crea_modelo(regularizador):\n",
        "  # Define una función que recibe un número del 0 al 4 que creará:\n",
        "  # un modelo secuencial con una capa de entrada densa de 512 neuronas\n",
        "  # con activación relu y la capa de salida que le corresponda según el problema\n",
        "  # Ahora, en función del número del regularizador:\n",
        "  # Si es 0, no mete ningún regularizador\n",
        "  # Si es 1, mete un regularizador de tipo l1 y valor 0.001\n",
        "  # Si es 2, mete un regularizador de tipo l2 y valor 0.001\n",
        "  # Si es 3, mete un regularizador de tipo l1_l2 y valor 0.001 para ambos\n",
        "  # Si es 4, mete un Dropout del 50% después de la primera capa densa\n",
        "  # Si es distinto que estos valores, escribe el error y retorna\n",
        "  # Al final, esta función pinta el summary del modelo y retorna el modelo creado\n",
        "\n",
        "    modelo = models.Sequential()\n",
        "    \n",
        "    if regularizador==0:\n",
        "       modelo.add(layers.Dense(512, activation='relu', input_shape=(28*28,)))\n",
        "       modelo.add(layers.Dense(10, activation='softmax'))\n",
        "       modelo.summary()\n",
        "    elif regularizador==1:\n",
        "       modelo.add(layers.Dense(512, kernel_regularizer=regularizers.l1(0.001), activation='relu',\n",
        "                           input_shape=(28*28,)))\n",
        "       modelo.add(layers.Dense(10, activation='softmax'))\n",
        "       modelo.summary()\n",
        "    elif regularizador==2:\n",
        "      modelo.add(layers.Dense(512, kernel_regularizer=regularizers.l2(0.001), activation='relu',\n",
        "                           input_shape=(28*28,)))\n",
        "      modelo.add(layers.Dense(10, activation='softmax'))\n",
        "      modelo.summary()\n",
        "    elif regularizador==3:\n",
        "      modelo.add(layers.Dense(512, kernel_regularizer=regularizers.l1_l2(l1=0.001, l2=0.002), activation='relu',\n",
        "                           input_shape=(28*28,)))\n",
        "      modelo.add(layers.Dense(10, activation='softmax'))\n",
        "      modelo.summary()\n",
        "    elif regularizador==4:\n",
        "      modelo.add(layers.Dense(512, activation='relu', input_shape=(28*28,)))\n",
        "      modelo.add(layers.Dropout(0.5))\n",
        "      modelo.add(layers.Dense(10, activation='softmax'))\n",
        "      modelo.summary()\n",
        "    else:\n",
        "      print('Error, el valor del regulizador debe ser entre 0 y 4. \\n ')\n",
        "     \n",
        "\n",
        "    return modelo"
      ],
      "metadata": {
        "id": "6JnVLVfsAfkh"
      },
      "execution_count": null,
      "outputs": []
    },
    {
      "cell_type": "code",
      "source": [
        "def compila_modelo(modelo): \n",
        "  # Define una función que recibe un modelo, lo compila con un optimizador\n",
        "  # 'rmsprop', con una función de pérdida 'sparse_categorical_crossentropy' y\n",
        "  # una métrica de precisión. La función retorna el modelo\n",
        "\n",
        "  modelo.compile(optimizer='rmsprop', \n",
        "                loss='sparse_categorical_crossentropy',\n",
        "                metrics=['accuracy'])\n",
        "  return modelo"
      ],
      "metadata": {
        "id": "qKyJ8KOT0aFt"
      },
      "execution_count": null,
      "outputs": []
    },
    {
      "cell_type": "code",
      "source": [
        "def entrena_modelo(modelo):\n",
        "  # Define una función que entrena el modelo que se le pasa por parámetro,\n",
        "  # con las imágenes y etiquetas de entrenamiento, con 30 iteraciones y 128\n",
        "  # de tamaño de minilote y con el validation_data creado más arriba.\n",
        "  # Esta función devuelve un history\n",
        "\n",
        "  historia0 = modelo.fit(train_images, train_labels, epochs=30, batch_size=128, validation_data = (validation_images, validation_labels ))\n",
        "  return historia0"
      ],
      "metadata": {
        "id": "_yQ7SpOt0cBp"
      },
      "execution_count": null,
      "outputs": []
    },
    {
      "cell_type": "code",
      "source": [
        "def pinta_perdida_entrenamiento_validacion(historia):\n",
        "  history_dict = historia.history\n",
        "  acc = historia.history['accuracy']\n",
        "  val_acc = historia.history['val_accuracy']\n",
        "  loss = historia.history['loss']\n",
        "  val_loss = historia.history['val_loss']\n",
        "  epochs = range(1, len(acc) + 1)\n",
        "  # \"bo\" es para \"punto azun\"\n",
        "  plt.plot(epochs, loss, 'bo', label='Pérdida de Entrenamiento')\n",
        "  # \"b\" es para \"linea continua azul\"\n",
        "  plt.plot(epochs, val_loss, 'b', label='Pérdida de Validación')\n",
        "  plt.title('Pérdida de Entrenamiento y Validación')\n",
        "  plt.xlabel('Epochs')\n",
        "  plt.ylabel('Loss')\n",
        "  plt.legend()\n",
        "  plt.show()"
      ],
      "metadata": {
        "id": "bJrRNc4WwPN2"
      },
      "execution_count": null,
      "outputs": []
    },
    {
      "cell_type": "code",
      "source": [
        "def pinta_precision_entrenamiento_validacion(historia):\n",
        "  history_dict = historia.history\n",
        "  acc = historia.history['accuracy']\n",
        "  val_acc = historia.history['val_accuracy']\n",
        "  loss = historia.history['loss']\n",
        "  val_loss = historia.history['val_loss']\n",
        "  plt.clf()   # Limpia la figura\n",
        "  acc_values = history_dict['accuracy']\n",
        "  val_acc_values = history_dict['val_accuracy']\n",
        "  epochs = range(1, len(acc) + 1)\n",
        "  plt.plot(epochs, acc, 'bo', label='Precisión de Entrenamiento')\n",
        "  plt.plot(epochs, val_acc, 'b', label='Precisión de Validación')\n",
        "  plt.title('Precisión de Entrenamiento y Valización')\n",
        "  plt.xlabel('Epochs')\n",
        "  plt.ylabel('Loss')\n",
        "  plt.legend()\n",
        "  plt.show()"
      ],
      "metadata": {
        "id": "Mafxp6D3wYQx"
      },
      "execution_count": null,
      "outputs": []
    },
    {
      "cell_type": "markdown",
      "source": [
        "## Una vez definidas todas las funciones anteriores, ejecuta las siguientes llamadas a dichas funciones y deduce que está pasando y, para este contexto, que es lo que mejor está funcionando"
      ],
      "metadata": {
        "id": "6nnQYysYA3_T"
      }
    },
    {
      "cell_type": "markdown",
      "source": [
        "### Caso 0, sin regularizadores"
      ],
      "metadata": {
        "id": "OrGwDgaFBax4"
      }
    },
    {
      "cell_type": "code",
      "source": [
        "network0 = crea_modelo(0)"
      ],
      "metadata": {
        "id": "uXvhlXg79Zi9",
        "colab": {
          "base_uri": "https://localhost:8080/"
        },
        "outputId": "d46119e6-8bcb-4369-9c02-75593c1581ac"
      },
      "execution_count": null,
      "outputs": [
        {
          "output_type": "stream",
          "name": "stdout",
          "text": [
            "Model: \"sequential\"\n",
            "_________________________________________________________________\n",
            " Layer (type)                Output Shape              Param #   \n",
            "=================================================================\n",
            " dense (Dense)               (None, 512)               401920    \n",
            "                                                                 \n",
            " dense_1 (Dense)             (None, 10)                5130      \n",
            "                                                                 \n",
            "=================================================================\n",
            "Total params: 407,050\n",
            "Trainable params: 407,050\n",
            "Non-trainable params: 0\n",
            "_________________________________________________________________\n"
          ]
        }
      ]
    },
    {
      "cell_type": "code",
      "source": [
        "network0 = compila_modelo(network0)"
      ],
      "metadata": {
        "id": "Ff0HC3NR9ez8"
      },
      "execution_count": null,
      "outputs": []
    },
    {
      "cell_type": "code",
      "source": [
        "historia0 = entrena_modelo(network0)"
      ],
      "metadata": {
        "id": "x9zQDOlw9g6V",
        "colab": {
          "base_uri": "https://localhost:8080/"
        },
        "outputId": "7ed9ede9-556d-4cb8-b986-25b0973c8357"
      },
      "execution_count": null,
      "outputs": [
        {
          "output_type": "stream",
          "name": "stdout",
          "text": [
            "Epoch 1/30\n",
            "391/391 [==============================] - 4s 4ms/step - loss: 0.2811 - accuracy: 0.9179 - val_loss: 0.1440 - val_accuracy: 0.9584\n",
            "Epoch 2/30\n",
            "391/391 [==============================] - 1s 3ms/step - loss: 0.1150 - accuracy: 0.9656 - val_loss: 0.1082 - val_accuracy: 0.9673\n",
            "Epoch 3/30\n",
            "391/391 [==============================] - 1s 3ms/step - loss: 0.0743 - accuracy: 0.9779 - val_loss: 0.0957 - val_accuracy: 0.9705\n",
            "Epoch 4/30\n",
            "391/391 [==============================] - 2s 4ms/step - loss: 0.0544 - accuracy: 0.9836 - val_loss: 0.0756 - val_accuracy: 0.9784\n",
            "Epoch 5/30\n",
            "391/391 [==============================] - 1s 4ms/step - loss: 0.0406 - accuracy: 0.9878 - val_loss: 0.0796 - val_accuracy: 0.9776\n",
            "Epoch 6/30\n",
            "391/391 [==============================] - 1s 3ms/step - loss: 0.0305 - accuracy: 0.9909 - val_loss: 0.0757 - val_accuracy: 0.9789\n",
            "Epoch 7/30\n",
            "391/391 [==============================] - 1s 3ms/step - loss: 0.0234 - accuracy: 0.9930 - val_loss: 0.0728 - val_accuracy: 0.9807\n",
            "Epoch 8/30\n",
            "391/391 [==============================] - 1s 4ms/step - loss: 0.0176 - accuracy: 0.9950 - val_loss: 0.0782 - val_accuracy: 0.9790\n",
            "Epoch 9/30\n",
            "391/391 [==============================] - 1s 3ms/step - loss: 0.0132 - accuracy: 0.9964 - val_loss: 0.0833 - val_accuracy: 0.9790\n",
            "Epoch 10/30\n",
            "391/391 [==============================] - 1s 3ms/step - loss: 0.0100 - accuracy: 0.9973 - val_loss: 0.0790 - val_accuracy: 0.9806\n",
            "Epoch 11/30\n",
            "391/391 [==============================] - 1s 3ms/step - loss: 0.0074 - accuracy: 0.9979 - val_loss: 0.0809 - val_accuracy: 0.9818\n",
            "Epoch 12/30\n",
            "391/391 [==============================] - 1s 3ms/step - loss: 0.0067 - accuracy: 0.9981 - val_loss: 0.0905 - val_accuracy: 0.9805\n",
            "Epoch 13/30\n",
            "391/391 [==============================] - 1s 3ms/step - loss: 0.0048 - accuracy: 0.9988 - val_loss: 0.0924 - val_accuracy: 0.9799\n",
            "Epoch 14/30\n",
            "391/391 [==============================] - 2s 4ms/step - loss: 0.0033 - accuracy: 0.9992 - val_loss: 0.0893 - val_accuracy: 0.9817\n",
            "Epoch 15/30\n",
            "391/391 [==============================] - 2s 4ms/step - loss: 0.0029 - accuracy: 0.9992 - val_loss: 0.1026 - val_accuracy: 0.9798\n",
            "Epoch 16/30\n",
            "391/391 [==============================] - 1s 4ms/step - loss: 0.0022 - accuracy: 0.9994 - val_loss: 0.1035 - val_accuracy: 0.9815\n",
            "Epoch 17/30\n",
            "391/391 [==============================] - 1s 3ms/step - loss: 0.0016 - accuracy: 0.9996 - val_loss: 0.1049 - val_accuracy: 0.9809\n",
            "Epoch 18/30\n",
            "391/391 [==============================] - 1s 3ms/step - loss: 0.0016 - accuracy: 0.9996 - val_loss: 0.1021 - val_accuracy: 0.9823\n",
            "Epoch 19/30\n",
            "391/391 [==============================] - 1s 3ms/step - loss: 0.0011 - accuracy: 0.9997 - val_loss: 0.1166 - val_accuracy: 0.9796\n",
            "Epoch 20/30\n",
            "391/391 [==============================] - 1s 3ms/step - loss: 9.8616e-04 - accuracy: 0.9998 - val_loss: 0.1072 - val_accuracy: 0.9830\n",
            "Epoch 21/30\n",
            "391/391 [==============================] - 1s 3ms/step - loss: 5.5877e-04 - accuracy: 0.9999 - val_loss: 0.1211 - val_accuracy: 0.9805\n",
            "Epoch 22/30\n",
            "391/391 [==============================] - 1s 3ms/step - loss: 5.7388e-04 - accuracy: 0.9998 - val_loss: 0.1184 - val_accuracy: 0.9819\n",
            "Epoch 23/30\n",
            "391/391 [==============================] - 1s 4ms/step - loss: 5.1106e-04 - accuracy: 0.9999 - val_loss: 0.1168 - val_accuracy: 0.9825\n",
            "Epoch 24/30\n",
            "391/391 [==============================] - 1s 3ms/step - loss: 4.8056e-04 - accuracy: 0.9999 - val_loss: 0.1243 - val_accuracy: 0.9804\n",
            "Epoch 25/30\n",
            "391/391 [==============================] - 1s 3ms/step - loss: 3.3151e-04 - accuracy: 0.9999 - val_loss: 0.1299 - val_accuracy: 0.9819\n",
            "Epoch 26/30\n",
            "391/391 [==============================] - 1s 3ms/step - loss: 2.0117e-04 - accuracy: 1.0000 - val_loss: 0.1455 - val_accuracy: 0.9812\n",
            "Epoch 27/30\n",
            "391/391 [==============================] - 1s 3ms/step - loss: 2.0312e-04 - accuracy: 1.0000 - val_loss: 0.1401 - val_accuracy: 0.9805\n",
            "Epoch 28/30\n",
            "391/391 [==============================] - 2s 4ms/step - loss: 1.1493e-04 - accuracy: 1.0000 - val_loss: 0.1369 - val_accuracy: 0.9818\n",
            "Epoch 29/30\n",
            "391/391 [==============================] - 1s 4ms/step - loss: 1.0690e-04 - accuracy: 1.0000 - val_loss: 0.1509 - val_accuracy: 0.9820\n",
            "Epoch 30/30\n",
            "391/391 [==============================] - 1s 3ms/step - loss: 1.0876e-04 - accuracy: 1.0000 - val_loss: 0.1521 - val_accuracy: 0.9811\n"
          ]
        }
      ]
    },
    {
      "cell_type": "code",
      "source": [
        "pinta_perdida_entrenamiento_validacion(historia0)"
      ],
      "metadata": {
        "id": "OvhDZvS8-0mG",
        "colab": {
          "base_uri": "https://localhost:8080/",
          "height": 295
        },
        "outputId": "8a8026a3-bfe5-432d-f023-58bdb65a4cb1"
      },
      "execution_count": null,
      "outputs": [
        {
          "output_type": "display_data",
          "data": {
            "text/plain": [
              "<Figure size 432x288 with 1 Axes>"
            ],
            "image/png": "[encoded data removed]"
          },
          "metadata": {
            "needs_background": "light"
          }
        }
      ]
    },
    {
      "cell_type": "code",
      "source": [
        "pinta_precision_entrenamiento_validacion(historia0)"
      ],
      "metadata": {
        "id": "UuiL2CCH_fGN",
        "colab": {
          "base_uri": "https://localhost:8080/",
          "height": 295
        },
        "outputId": "1c832850-2f6e-467f-968b-d64eab9952f5"
      },
      "execution_count": null,
      "outputs": [
        {
          "output_type": "display_data",
          "data": {
            "text/plain": [
              "<Figure size 432x288 with 1 Axes>"
            ],
            "image/png": "[encoded data removed]"
          },
          "metadata": {
            "needs_background": "light"
          }
        }
      ]
    },
    {
      "cell_type": "markdown",
      "source": [
        "### Caso 1: Con regularizador l1"
      ],
      "metadata": {
        "id": "pw6iBGO5Bg8J"
      }
    },
    {
      "cell_type": "code",
      "source": [
        "network1 = crea_modelo(1)"
      ],
      "metadata": {
        "id": "D6JPtw5zCz-1",
        "colab": {
          "base_uri": "https://localhost:8080/"
        },
        "outputId": "ca7335af-f497-41e1-9d73-c414549e54d0"
      },
      "execution_count": null,
      "outputs": [
        {
          "output_type": "stream",
          "name": "stdout",
          "text": [
            "Model: \"sequential_1\"\n",
            "_________________________________________________________________\n",
            " Layer (type)                Output Shape              Param #   \n",
            "=================================================================\n",
            " dense_2 (Dense)             (None, 512)               401920    \n",
            "                                                                 \n",
            " dense_3 (Dense)             (None, 10)                5130      \n",
            "                                                                 \n",
            "=================================================================\n",
            "Total params: 407,050\n",
            "Trainable params: 407,050\n",
            "Non-trainable params: 0\n",
            "_________________________________________________________________\n"
          ]
        }
      ]
    },
    {
      "cell_type": "code",
      "source": [
        "network1 = compila_modelo(network1)"
      ],
      "metadata": {
        "id": "zL3Gp7wvFRq3"
      },
      "execution_count": null,
      "outputs": []
    },
    {
      "cell_type": "code",
      "source": [
        "historia1 = entrena_modelo(network1)"
      ],
      "metadata": {
        "id": "G2FG1Z4xFW72",
        "colab": {
          "base_uri": "https://localhost:8080/"
        },
        "outputId": "2f0ad449-b1b2-4e90-d219-067076ddbc55"
      },
      "execution_count": null,
      "outputs": [
        {
          "output_type": "stream",
          "name": "stdout",
          "text": [
            "Epoch 1/30\n",
            "391/391 [==============================] - 2s 4ms/step - loss: 2.1390 - accuracy: 0.8453 - val_loss: 1.1252 - val_accuracy: 0.8561\n",
            "Epoch 2/30\n",
            "391/391 [==============================] - 1s 4ms/step - loss: 0.9696 - accuracy: 0.8796 - val_loss: 0.9051 - val_accuracy: 0.8900\n",
            "Epoch 3/30\n",
            "391/391 [==============================] - 1s 3ms/step - loss: 0.8482 - accuracy: 0.9010 - val_loss: 0.7648 - val_accuracy: 0.9267\n",
            "Epoch 4/30\n",
            "391/391 [==============================] - 1s 3ms/step - loss: 0.7690 - accuracy: 0.9128 - val_loss: 0.7293 - val_accuracy: 0.9287\n",
            "Epoch 5/30\n",
            "391/391 [==============================] - 1s 3ms/step - loss: 0.7186 - accuracy: 0.9215 - val_loss: 0.6770 - val_accuracy: 0.9360\n",
            "Epoch 6/30\n",
            "391/391 [==============================] - 1s 4ms/step - loss: 0.6813 - accuracy: 0.9282 - val_loss: 0.6379 - val_accuracy: 0.9425\n",
            "Epoch 7/30\n",
            "391/391 [==============================] - 1s 3ms/step - loss: 0.6545 - accuracy: 0.9328 - val_loss: 0.6287 - val_accuracy: 0.9397\n",
            "Epoch 8/30\n",
            "391/391 [==============================] - 1s 4ms/step - loss: 0.6295 - accuracy: 0.9370 - val_loss: 0.6312 - val_accuracy: 0.9377\n",
            "Epoch 9/30\n",
            "391/391 [==============================] - 1s 3ms/step - loss: 0.6097 - accuracy: 0.9424 - val_loss: 0.6058 - val_accuracy: 0.9371\n",
            "Epoch 10/30\n",
            "391/391 [==============================] - 1s 4ms/step - loss: 0.5955 - accuracy: 0.9426 - val_loss: 0.5685 - val_accuracy: 0.9526\n",
            "Epoch 11/30\n",
            "391/391 [==============================] - 1s 3ms/step - loss: 0.5812 - accuracy: 0.9454 - val_loss: 0.5559 - val_accuracy: 0.9567\n",
            "Epoch 12/30\n",
            "391/391 [==============================] - 1s 4ms/step - loss: 0.5720 - accuracy: 0.9470 - val_loss: 0.5432 - val_accuracy: 0.9565\n",
            "Epoch 13/30\n",
            "391/391 [==============================] - 1s 4ms/step - loss: 0.5610 - accuracy: 0.9479 - val_loss: 0.5452 - val_accuracy: 0.9509\n",
            "Epoch 14/30\n",
            "391/391 [==============================] - 1s 4ms/step - loss: 0.5533 - accuracy: 0.9497 - val_loss: 0.5394 - val_accuracy: 0.9539\n",
            "Epoch 15/30\n",
            "391/391 [==============================] - 1s 4ms/step - loss: 0.5459 - accuracy: 0.9510 - val_loss: 0.5363 - val_accuracy: 0.9564\n",
            "Epoch 16/30\n",
            "391/391 [==============================] - 1s 4ms/step - loss: 0.5400 - accuracy: 0.9508 - val_loss: 0.5089 - val_accuracy: 0.9624\n",
            "Epoch 17/30\n",
            "391/391 [==============================] - 1s 4ms/step - loss: 0.5333 - accuracy: 0.9526 - val_loss: 0.5294 - val_accuracy: 0.9522\n",
            "Epoch 18/30\n",
            "391/391 [==============================] - 1s 3ms/step - loss: 0.5291 - accuracy: 0.9537 - val_loss: 0.5480 - val_accuracy: 0.9511\n",
            "Epoch 19/30\n",
            "391/391 [==============================] - 1s 3ms/step - loss: 0.5238 - accuracy: 0.9540 - val_loss: 0.5094 - val_accuracy: 0.9616\n",
            "Epoch 20/30\n",
            "391/391 [==============================] - 1s 3ms/step - loss: 0.5192 - accuracy: 0.9540 - val_loss: 0.5177 - val_accuracy: 0.9543\n",
            "Epoch 21/30\n",
            "391/391 [==============================] - 1s 3ms/step - loss: 0.5157 - accuracy: 0.9552 - val_loss: 0.5054 - val_accuracy: 0.9590\n",
            "Epoch 22/30\n",
            "391/391 [==============================] - 1s 4ms/step - loss: 0.5104 - accuracy: 0.9559 - val_loss: 0.5018 - val_accuracy: 0.9602\n",
            "Epoch 23/30\n",
            "391/391 [==============================] - 1s 3ms/step - loss: 0.5071 - accuracy: 0.9559 - val_loss: 0.5079 - val_accuracy: 0.9549\n",
            "Epoch 24/30\n",
            "391/391 [==============================] - 1s 3ms/step - loss: 0.5039 - accuracy: 0.9574 - val_loss: 0.4862 - val_accuracy: 0.9617\n",
            "Epoch 25/30\n",
            "391/391 [==============================] - 1s 4ms/step - loss: 0.5012 - accuracy: 0.9566 - val_loss: 0.5002 - val_accuracy: 0.9617\n",
            "Epoch 26/30\n",
            "391/391 [==============================] - 1s 4ms/step - loss: 0.4990 - accuracy: 0.9569 - val_loss: 0.4865 - val_accuracy: 0.9623\n",
            "Epoch 27/30\n",
            "391/391 [==============================] - 1s 3ms/step - loss: 0.4933 - accuracy: 0.9586 - val_loss: 0.5026 - val_accuracy: 0.9596\n",
            "Epoch 28/30\n",
            "391/391 [==============================] - 1s 3ms/step - loss: 0.4910 - accuracy: 0.9591 - val_loss: 0.4896 - val_accuracy: 0.9606\n",
            "Epoch 29/30\n",
            "391/391 [==============================] - 1s 4ms/step - loss: 0.4899 - accuracy: 0.9582 - val_loss: 0.4707 - val_accuracy: 0.9626\n",
            "Epoch 30/30\n",
            "391/391 [==============================] - 1s 3ms/step - loss: 0.4871 - accuracy: 0.9589 - val_loss: 0.4858 - val_accuracy: 0.9608\n"
          ]
        }
      ]
    },
    {
      "cell_type": "code",
      "source": [
        "pinta_perdida_entrenamiento_validacion(historia1)"
      ],
      "metadata": {
        "id": "Vyv3yFtiFitw",
        "colab": {
          "base_uri": "https://localhost:8080/",
          "height": 295
        },
        "outputId": "877d9c9a-f9d5-4401-dab3-1a270ae01331"
      },
      "execution_count": null,
      "outputs": [
        {
          "output_type": "display_data",
          "data": {
            "text/plain": [
              "<Figure size 432x288 with 1 Axes>"
            ],
            "image/png": "[encoded data removed]"
          },
          "metadata": {
            "needs_background": "light"
          }
        }
      ]
    },
    {
      "cell_type": "code",
      "source": [
        "pinta_precision_entrenamiento_validacion(historia1)"
      ],
      "metadata": {
        "id": "pVUerJsqFo7K",
        "colab": {
          "base_uri": "https://localhost:8080/",
          "height": 295
        },
        "outputId": "8590e1fb-133e-4b1e-ccc0-0489dbdd4fab"
      },
      "execution_count": null,
      "outputs": [
        {
          "output_type": "display_data",
          "data": {
            "text/plain": [
              "<Figure size 432x288 with 1 Axes>"
            ],
            "image/png": "[encoded data removed]"
          },
          "metadata": {
            "needs_background": "light"
          }
        }
      ]
    },
    {
      "cell_type": "markdown",
      "source": [
        "### Caso 2: Con regularizador l2"
      ],
      "metadata": {
        "id": "hklwKNlMBzya"
      }
    },
    {
      "cell_type": "code",
      "source": [
        "network2 = crea_modelo(2)"
      ],
      "metadata": {
        "id": "tjIs0FziG5Ja",
        "colab": {
          "base_uri": "https://localhost:8080/"
        },
        "outputId": "28fd68e7-f1a6-4e3a-854e-84c7c8f90c4e"
      },
      "execution_count": null,
      "outputs": [
        {
          "output_type": "stream",
          "name": "stdout",
          "text": [
            "Model: \"sequential_2\"\n",
            "_________________________________________________________________\n",
            " Layer (type)                Output Shape              Param #   \n",
            "=================================================================\n",
            " dense_4 (Dense)             (None, 512)               401920    \n",
            "                                                                 \n",
            " dense_5 (Dense)             (None, 10)                5130      \n",
            "                                                                 \n",
            "=================================================================\n",
            "Total params: 407,050\n",
            "Trainable params: 407,050\n",
            "Non-trainable params: 0\n",
            "_________________________________________________________________\n"
          ]
        }
      ]
    },
    {
      "cell_type": "code",
      "source": [
        "network2 = compila_modelo(network2)"
      ],
      "metadata": {
        "id": "UCdA0K_qyTUq"
      },
      "execution_count": null,
      "outputs": []
    },
    {
      "cell_type": "code",
      "source": [
        "historia2 = entrena_modelo(network2)"
      ],
      "metadata": {
        "id": "WSuomx5oybpu",
        "colab": {
          "base_uri": "https://localhost:8080/"
        },
        "outputId": "2f0172e0-f55a-4db7-dc9d-4b9bb9c7c03e"
      },
      "execution_count": null,
      "outputs": [
        {
          "output_type": "stream",
          "name": "stdout",
          "text": [
            "Epoch 1/30\n",
            "391/391 [==============================] - 2s 4ms/step - loss: 0.5282 - accuracy: 0.9124 - val_loss: 0.2919 - val_accuracy: 0.9554\n",
            "Epoch 2/30\n",
            "391/391 [==============================] - 1s 3ms/step - loss: 0.2642 - accuracy: 0.9544 - val_loss: 0.2381 - val_accuracy: 0.9575\n",
            "Epoch 3/30\n",
            "391/391 [==============================] - 1s 3ms/step - loss: 0.2097 - accuracy: 0.9631 - val_loss: 0.1954 - val_accuracy: 0.9650\n",
            "Epoch 4/30\n",
            "391/391 [==============================] - 1s 3ms/step - loss: 0.1880 - accuracy: 0.9659 - val_loss: 0.1808 - val_accuracy: 0.9698\n",
            "Epoch 5/30\n",
            "391/391 [==============================] - 1s 4ms/step - loss: 0.1732 - accuracy: 0.9698 - val_loss: 0.2450 - val_accuracy: 0.9417\n",
            "Epoch 6/30\n",
            "391/391 [==============================] - 1s 4ms/step - loss: 0.1652 - accuracy: 0.9713 - val_loss: 0.1682 - val_accuracy: 0.9694\n",
            "Epoch 7/30\n",
            "391/391 [==============================] - 1s 4ms/step - loss: 0.1570 - accuracy: 0.9728 - val_loss: 0.1723 - val_accuracy: 0.9685\n",
            "Epoch 8/30\n",
            "391/391 [==============================] - 1s 3ms/step - loss: 0.1521 - accuracy: 0.9740 - val_loss: 0.1658 - val_accuracy: 0.9705\n",
            "Epoch 9/30\n",
            "391/391 [==============================] - 1s 4ms/step - loss: 0.1471 - accuracy: 0.9750 - val_loss: 0.1605 - val_accuracy: 0.9710\n",
            "Epoch 10/30\n",
            "391/391 [==============================] - 1s 3ms/step - loss: 0.1438 - accuracy: 0.9755 - val_loss: 0.1937 - val_accuracy: 0.9618\n",
            "Epoch 11/30\n",
            "391/391 [==============================] - 1s 4ms/step - loss: 0.1416 - accuracy: 0.9759 - val_loss: 0.1459 - val_accuracy: 0.9736\n",
            "Epoch 12/30\n",
            "391/391 [==============================] - 1s 3ms/step - loss: 0.1364 - accuracy: 0.9774 - val_loss: 0.1394 - val_accuracy: 0.9769\n",
            "Epoch 13/30\n",
            "391/391 [==============================] - 1s 3ms/step - loss: 0.1336 - accuracy: 0.9780 - val_loss: 0.1620 - val_accuracy: 0.9697\n",
            "Epoch 14/30\n",
            "391/391 [==============================] - 1s 4ms/step - loss: 0.1317 - accuracy: 0.9783 - val_loss: 0.1553 - val_accuracy: 0.9727\n",
            "Epoch 15/30\n",
            "391/391 [==============================] - 1s 3ms/step - loss: 0.1298 - accuracy: 0.9780 - val_loss: 0.1537 - val_accuracy: 0.9735\n",
            "Epoch 16/30\n",
            "391/391 [==============================] - 1s 3ms/step - loss: 0.1288 - accuracy: 0.9776 - val_loss: 0.1348 - val_accuracy: 0.9773\n",
            "Epoch 17/30\n",
            "391/391 [==============================] - 1s 3ms/step - loss: 0.1260 - accuracy: 0.9787 - val_loss: 0.1348 - val_accuracy: 0.9766\n",
            "Epoch 18/30\n",
            "391/391 [==============================] - 1s 3ms/step - loss: 0.1239 - accuracy: 0.9794 - val_loss: 0.1557 - val_accuracy: 0.9697\n",
            "Epoch 19/30\n",
            "391/391 [==============================] - 1s 3ms/step - loss: 0.1218 - accuracy: 0.9798 - val_loss: 0.1388 - val_accuracy: 0.9742\n",
            "Epoch 20/30\n",
            "391/391 [==============================] - 1s 3ms/step - loss: 0.1203 - accuracy: 0.9802 - val_loss: 0.1478 - val_accuracy: 0.9749\n",
            "Epoch 21/30\n",
            "391/391 [==============================] - 1s 4ms/step - loss: 0.1194 - accuracy: 0.9799 - val_loss: 0.1276 - val_accuracy: 0.9767\n",
            "Epoch 22/30\n",
            "391/391 [==============================] - 1s 4ms/step - loss: 0.1175 - accuracy: 0.9811 - val_loss: 0.1411 - val_accuracy: 0.9744\n",
            "Epoch 23/30\n",
            "391/391 [==============================] - 1s 4ms/step - loss: 0.1150 - accuracy: 0.9805 - val_loss: 0.1414 - val_accuracy: 0.9747\n",
            "Epoch 24/30\n",
            "391/391 [==============================] - 1s 3ms/step - loss: 0.1146 - accuracy: 0.9807 - val_loss: 0.1273 - val_accuracy: 0.9782\n",
            "Epoch 25/30\n",
            "391/391 [==============================] - 1s 3ms/step - loss: 0.1121 - accuracy: 0.9815 - val_loss: 0.1302 - val_accuracy: 0.9768\n",
            "Epoch 26/30\n",
            "391/391 [==============================] - 1s 3ms/step - loss: 0.1115 - accuracy: 0.9819 - val_loss: 0.1360 - val_accuracy: 0.9755\n",
            "Epoch 27/30\n",
            "391/391 [==============================] - 1s 3ms/step - loss: 0.1127 - accuracy: 0.9812 - val_loss: 0.1334 - val_accuracy: 0.9761\n",
            "Epoch 28/30\n",
            "391/391 [==============================] - 1s 3ms/step - loss: 0.1108 - accuracy: 0.9811 - val_loss: 0.1287 - val_accuracy: 0.9769\n",
            "Epoch 29/30\n",
            "391/391 [==============================] - 1s 3ms/step - loss: 0.1073 - accuracy: 0.9826 - val_loss: 0.1411 - val_accuracy: 0.9761\n",
            "Epoch 30/30\n",
            "391/391 [==============================] - 1s 3ms/step - loss: 0.1072 - accuracy: 0.9815 - val_loss: 0.1350 - val_accuracy: 0.9754\n"
          ]
        }
      ]
    },
    {
      "cell_type": "code",
      "source": [
        "pinta_perdida_entrenamiento_validacion(historia2)"
      ],
      "metadata": {
        "id": "aXXzm8tpyj6X",
        "colab": {
          "base_uri": "https://localhost:8080/",
          "height": 295
        },
        "outputId": "3da7752a-0378-4dbf-d2f9-58ce29427d72"
      },
      "execution_count": null,
      "outputs": [
        {
          "output_type": "display_data",
          "data": {
            "text/plain": [
              "<Figure size 432x288 with 1 Axes>"
            ],
            "image/png": "[encoded data removed]"
          },
          "metadata": {
            "needs_background": "light"
          }
        }
      ]
    },
    {
      "cell_type": "code",
      "source": [
        "pinta_precision_entrenamiento_validacion(historia2)"
      ],
      "metadata": {
        "id": "CLTsg5LTypH9",
        "colab": {
          "base_uri": "https://localhost:8080/",
          "height": 295
        },
        "outputId": "068fab3b-d7e8-474c-c399-d55403cd3862"
      },
      "execution_count": null,
      "outputs": [
        {
          "output_type": "display_data",
          "data": {
            "text/plain": [
              "<Figure size 432x288 with 1 Axes>"
            ],
            "image/png": "[encoded data removed]"
          },
          "metadata": {
            "needs_background": "light"
          }
        }
      ]
    },
    {
      "cell_type": "markdown",
      "source": [
        "### Caso 3: Con regularizador l1_l2"
      ],
      "metadata": {
        "id": "692oWz8oB82n"
      }
    },
    {
      "cell_type": "code",
      "source": [
        "network3 = crea_modelo(3)"
      ],
      "metadata": {
        "id": "5fdxkjoKzFcu",
        "colab": {
          "base_uri": "https://localhost:8080/"
        },
        "outputId": "5f9c8614-0393-49a4-9bf2-90740273749e"
      },
      "execution_count": null,
      "outputs": [
        {
          "output_type": "stream",
          "name": "stdout",
          "text": [
            "Model: \"sequential_4\"\n",
            "_________________________________________________________________\n",
            " Layer (type)                Output Shape              Param #   \n",
            "=================================================================\n",
            " dense_7 (Dense)             (None, 512)               401920    \n",
            "                                                                 \n",
            " dense_8 (Dense)             (None, 10)                5130      \n",
            "                                                                 \n",
            "=================================================================\n",
            "Total params: 407,050\n",
            "Trainable params: 407,050\n",
            "Non-trainable params: 0\n",
            "_________________________________________________________________\n"
          ]
        }
      ]
    },
    {
      "cell_type": "code",
      "source": [
        "network3 = compila_modelo(network3)"
      ],
      "metadata": {
        "id": "VJzs9A2yzPhx"
      },
      "execution_count": null,
      "outputs": []
    },
    {
      "cell_type": "code",
      "source": [
        "historia3 = entrena_modelo(network3)"
      ],
      "metadata": {
        "id": "1JCUbcCQzY6E",
        "colab": {
          "base_uri": "https://localhost:8080/"
        },
        "outputId": "07bffbe0-55f5-40c2-841a-60aea4113d4c"
      },
      "execution_count": null,
      "outputs": [
        {
          "output_type": "stream",
          "name": "stdout",
          "text": [
            "Epoch 1/30\n",
            "391/391 [==============================] - 2s 4ms/step - loss: 2.1765 - accuracy: 0.8384 - val_loss: 1.0385 - val_accuracy: 0.8764\n",
            "Epoch 2/30\n",
            "391/391 [==============================] - 1s 4ms/step - loss: 0.9930 - accuracy: 0.8729 - val_loss: 0.8475 - val_accuracy: 0.9145\n",
            "Epoch 3/30\n",
            "391/391 [==============================] - 1s 3ms/step - loss: 0.8756 - accuracy: 0.8929 - val_loss: 0.8510 - val_accuracy: 0.9070\n",
            "Epoch 4/30\n",
            "391/391 [==============================] - 1s 3ms/step - loss: 0.8013 - accuracy: 0.9070 - val_loss: 0.7512 - val_accuracy: 0.9218\n",
            "Epoch 5/30\n",
            "391/391 [==============================] - 1s 3ms/step - loss: 0.7492 - accuracy: 0.9181 - val_loss: 0.6954 - val_accuracy: 0.9350\n",
            "Epoch 6/30\n",
            "391/391 [==============================] - 1s 3ms/step - loss: 0.7131 - accuracy: 0.9240 - val_loss: 0.6567 - val_accuracy: 0.9403\n",
            "Epoch 7/30\n",
            "391/391 [==============================] - 1s 3ms/step - loss: 0.6836 - accuracy: 0.9284 - val_loss: 0.6766 - val_accuracy: 0.9321\n",
            "Epoch 8/30\n",
            "391/391 [==============================] - 1s 3ms/step - loss: 0.6591 - accuracy: 0.9337 - val_loss: 0.6377 - val_accuracy: 0.9412\n",
            "Epoch 9/30\n",
            "391/391 [==============================] - 1s 3ms/step - loss: 0.6405 - accuracy: 0.9360 - val_loss: 0.5998 - val_accuracy: 0.9510\n",
            "Epoch 10/30\n",
            "391/391 [==============================] - 1s 3ms/step - loss: 0.6247 - accuracy: 0.9385 - val_loss: 0.5835 - val_accuracy: 0.9516\n",
            "Epoch 11/30\n",
            "391/391 [==============================] - 1s 4ms/step - loss: 0.6132 - accuracy: 0.9408 - val_loss: 0.5908 - val_accuracy: 0.9491\n",
            "Epoch 12/30\n",
            "391/391 [==============================] - 1s 4ms/step - loss: 0.6010 - accuracy: 0.9427 - val_loss: 0.5592 - val_accuracy: 0.9547\n",
            "Epoch 13/30\n",
            "391/391 [==============================] - 1s 4ms/step - loss: 0.5886 - accuracy: 0.9457 - val_loss: 0.5960 - val_accuracy: 0.9423\n",
            "Epoch 14/30\n",
            "391/391 [==============================] - 1s 4ms/step - loss: 0.5817 - accuracy: 0.9467 - val_loss: 0.6296 - val_accuracy: 0.9288\n",
            "Epoch 15/30\n",
            "391/391 [==============================] - 1s 3ms/step - loss: 0.5721 - accuracy: 0.9481 - val_loss: 0.5371 - val_accuracy: 0.9571\n",
            "Epoch 16/30\n",
            "391/391 [==============================] - 2s 4ms/step - loss: 0.5646 - accuracy: 0.9490 - val_loss: 0.5667 - val_accuracy: 0.9495\n",
            "Epoch 17/30\n",
            "391/391 [==============================] - 1s 3ms/step - loss: 0.5592 - accuracy: 0.9504 - val_loss: 0.5680 - val_accuracy: 0.9473\n",
            "Epoch 18/30\n",
            "391/391 [==============================] - 1s 3ms/step - loss: 0.5534 - accuracy: 0.9511 - val_loss: 0.5314 - val_accuracy: 0.9607\n",
            "Epoch 19/30\n",
            "391/391 [==============================] - 1s 4ms/step - loss: 0.5484 - accuracy: 0.9510 - val_loss: 0.5463 - val_accuracy: 0.9527\n",
            "Epoch 20/30\n",
            "391/391 [==============================] - 2s 4ms/step - loss: 0.5447 - accuracy: 0.9513 - val_loss: 0.5169 - val_accuracy: 0.9616\n",
            "Epoch 21/30\n",
            "391/391 [==============================] - 1s 4ms/step - loss: 0.5392 - accuracy: 0.9529 - val_loss: 0.5659 - val_accuracy: 0.9453\n",
            "Epoch 22/30\n",
            "391/391 [==============================] - 1s 4ms/step - loss: 0.5354 - accuracy: 0.9529 - val_loss: 0.5340 - val_accuracy: 0.9570\n",
            "Epoch 23/30\n",
            "391/391 [==============================] - 1s 3ms/step - loss: 0.5331 - accuracy: 0.9543 - val_loss: 0.4995 - val_accuracy: 0.9651\n",
            "Epoch 24/30\n",
            "391/391 [==============================] - 1s 4ms/step - loss: 0.5293 - accuracy: 0.9533 - val_loss: 0.5172 - val_accuracy: 0.9551\n",
            "Epoch 25/30\n",
            "391/391 [==============================] - 1s 3ms/step - loss: 0.5269 - accuracy: 0.9543 - val_loss: 0.5472 - val_accuracy: 0.9491\n",
            "Epoch 26/30\n",
            "391/391 [==============================] - 1s 4ms/step - loss: 0.5219 - accuracy: 0.9555 - val_loss: 0.5051 - val_accuracy: 0.9628\n",
            "Epoch 27/30\n",
            "391/391 [==============================] - 1s 4ms/step - loss: 0.5208 - accuracy: 0.9550 - val_loss: 0.5345 - val_accuracy: 0.9536\n",
            "Epoch 28/30\n",
            "391/391 [==============================] - 1s 4ms/step - loss: 0.5176 - accuracy: 0.9555 - val_loss: 0.5024 - val_accuracy: 0.9621\n",
            "Epoch 29/30\n",
            "391/391 [==============================] - 1s 3ms/step - loss: 0.5144 - accuracy: 0.9547 - val_loss: 0.5027 - val_accuracy: 0.9599\n",
            "Epoch 30/30\n",
            "391/391 [==============================] - 1s 3ms/step - loss: 0.5130 - accuracy: 0.9551 - val_loss: 0.4877 - val_accuracy: 0.9619\n"
          ]
        }
      ]
    },
    {
      "cell_type": "code",
      "source": [
        "pinta_perdida_entrenamiento_validacion(historia3)"
      ],
      "metadata": {
        "id": "I8XzPVtyze8y",
        "colab": {
          "base_uri": "https://localhost:8080/",
          "height": 295
        },
        "outputId": "cda6e80b-0326-4ef5-d507-de29e9c2f71d"
      },
      "execution_count": null,
      "outputs": [
        {
          "output_type": "display_data",
          "data": {
            "text/plain": [
              "<Figure size 432x288 with 1 Axes>"
            ],
            "image/png": "[encoded data removed]"
          },
          "metadata": {
            "needs_background": "light"
          }
        }
      ]
    },
    {
      "cell_type": "code",
      "source": [
        "pinta_precision_entrenamiento_validacion(historia3)"
      ],
      "metadata": {
        "id": "nKk7AmM8zi3A",
        "colab": {
          "base_uri": "https://localhost:8080/",
          "height": 295
        },
        "outputId": "66b919fe-8c41-4670-eca6-47bd2f45ca0e"
      },
      "execution_count": null,
      "outputs": [
        {
          "output_type": "display_data",
          "data": {
            "text/plain": [
              "<Figure size 432x288 with 1 Axes>"
            ],
            "image/png": "[encoded data removed]"
          },
          "metadata": {
            "needs_background": "light"
          }
        }
      ]
    },
    {
      "cell_type": "markdown",
      "source": [
        "### Caso 4: Con Droput"
      ],
      "metadata": {
        "id": "OPVcbgcXCFRL"
      }
    },
    {
      "cell_type": "code",
      "source": [
        "network4 = crea_modelo(4)"
      ],
      "metadata": {
        "id": "5MVbUNX11Pgr",
        "colab": {
          "base_uri": "https://localhost:8080/"
        },
        "outputId": "e6c54cac-c3b9-4df8-81f5-5e15f75d655b"
      },
      "execution_count": null,
      "outputs": [
        {
          "output_type": "stream",
          "name": "stdout",
          "text": [
            "Model: \"sequential_5\"\n",
            "_________________________________________________________________\n",
            " Layer (type)                Output Shape              Param #   \n",
            "=================================================================\n",
            " dense_9 (Dense)             (None, 512)               401920    \n",
            "                                                                 \n",
            " dropout (Dropout)           (None, 512)               0         \n",
            "                                                                 \n",
            " dense_10 (Dense)            (None, 10)                5130      \n",
            "                                                                 \n",
            "=================================================================\n",
            "Total params: 407,050\n",
            "Trainable params: 407,050\n",
            "Non-trainable params: 0\n",
            "_________________________________________________________________\n"
          ]
        }
      ]
    },
    {
      "cell_type": "code",
      "source": [
        "network4 = compila_modelo(network4)"
      ],
      "metadata": {
        "id": "pT-13IKI1UpW"
      },
      "execution_count": null,
      "outputs": []
    },
    {
      "cell_type": "code",
      "source": [
        "historia4 = entrena_modelo(network4)"
      ],
      "metadata": {
        "id": "kNWidx1S1aCH",
        "colab": {
          "base_uri": "https://localhost:8080/"
        },
        "outputId": "951fe526-d8c5-41de-dd59-6efd86802cbf"
      },
      "execution_count": null,
      "outputs": [
        {
          "output_type": "stream",
          "name": "stdout",
          "text": [
            "Epoch 1/30\n",
            "391/391 [==============================] - 2s 4ms/step - loss: 0.3413 - accuracy: 0.8987 - val_loss: 0.1663 - val_accuracy: 0.9504\n",
            "Epoch 2/30\n",
            "391/391 [==============================] - 1s 3ms/step - loss: 0.1677 - accuracy: 0.9499 - val_loss: 0.1132 - val_accuracy: 0.9671\n",
            "Epoch 3/30\n",
            "391/391 [==============================] - 1s 4ms/step - loss: 0.1265 - accuracy: 0.9631 - val_loss: 0.0934 - val_accuracy: 0.9729\n",
            "Epoch 4/30\n",
            "391/391 [==============================] - 1s 4ms/step - loss: 0.1054 - accuracy: 0.9684 - val_loss: 0.0866 - val_accuracy: 0.9742\n",
            "Epoch 5/30\n",
            "391/391 [==============================] - 1s 4ms/step - loss: 0.0926 - accuracy: 0.9720 - val_loss: 0.0843 - val_accuracy: 0.9769\n",
            "Epoch 6/30\n",
            "391/391 [==============================] - 1s 3ms/step - loss: 0.0814 - accuracy: 0.9754 - val_loss: 0.0797 - val_accuracy: 0.9778\n",
            "Epoch 7/30\n",
            "391/391 [==============================] - 1s 3ms/step - loss: 0.0737 - accuracy: 0.9776 - val_loss: 0.0819 - val_accuracy: 0.9775\n",
            "Epoch 8/30\n",
            "391/391 [==============================] - 1s 3ms/step - loss: 0.0707 - accuracy: 0.9789 - val_loss: 0.0783 - val_accuracy: 0.9803\n",
            "Epoch 9/30\n",
            "391/391 [==============================] - 1s 3ms/step - loss: 0.0631 - accuracy: 0.9809 - val_loss: 0.0771 - val_accuracy: 0.9793\n",
            "Epoch 10/30\n",
            "391/391 [==============================] - 1s 3ms/step - loss: 0.0595 - accuracy: 0.9820 - val_loss: 0.0851 - val_accuracy: 0.9784\n",
            "Epoch 11/30\n",
            "391/391 [==============================] - 1s 3ms/step - loss: 0.0543 - accuracy: 0.9832 - val_loss: 0.0782 - val_accuracy: 0.9805\n",
            "Epoch 12/30\n",
            "391/391 [==============================] - 1s 3ms/step - loss: 0.0511 - accuracy: 0.9846 - val_loss: 0.0798 - val_accuracy: 0.9805\n",
            "Epoch 13/30\n",
            "391/391 [==============================] - 2s 4ms/step - loss: 0.0485 - accuracy: 0.9844 - val_loss: 0.0807 - val_accuracy: 0.9808\n",
            "Epoch 14/30\n",
            "391/391 [==============================] - 2s 4ms/step - loss: 0.0475 - accuracy: 0.9855 - val_loss: 0.0889 - val_accuracy: 0.9788\n",
            "Epoch 15/30\n",
            "391/391 [==============================] - 1s 3ms/step - loss: 0.0454 - accuracy: 0.9861 - val_loss: 0.0827 - val_accuracy: 0.9809\n",
            "Epoch 16/30\n",
            "391/391 [==============================] - 1s 3ms/step - loss: 0.0423 - accuracy: 0.9870 - val_loss: 0.0862 - val_accuracy: 0.9810\n",
            "Epoch 17/30\n",
            "391/391 [==============================] - 1s 3ms/step - loss: 0.0392 - accuracy: 0.9880 - val_loss: 0.0825 - val_accuracy: 0.9811\n",
            "Epoch 18/30\n",
            "391/391 [==============================] - 1s 4ms/step - loss: 0.0397 - accuracy: 0.9879 - val_loss: 0.0845 - val_accuracy: 0.9822\n",
            "Epoch 19/30\n",
            "391/391 [==============================] - 1s 3ms/step - loss: 0.0370 - accuracy: 0.9891 - val_loss: 0.0872 - val_accuracy: 0.9815\n",
            "Epoch 20/30\n",
            "391/391 [==============================] - 1s 3ms/step - loss: 0.0347 - accuracy: 0.9899 - val_loss: 0.0881 - val_accuracy: 0.9816\n",
            "Epoch 21/30\n",
            "391/391 [==============================] - 1s 3ms/step - loss: 0.0349 - accuracy: 0.9894 - val_loss: 0.0912 - val_accuracy: 0.9815\n",
            "Epoch 22/30\n",
            "391/391 [==============================] - 2s 4ms/step - loss: 0.0342 - accuracy: 0.9893 - val_loss: 0.0875 - val_accuracy: 0.9812\n",
            "Epoch 23/30\n",
            "391/391 [==============================] - 1s 4ms/step - loss: 0.0321 - accuracy: 0.9902 - val_loss: 0.0866 - val_accuracy: 0.9828\n",
            "Epoch 24/30\n",
            "391/391 [==============================] - 1s 4ms/step - loss: 0.0317 - accuracy: 0.9905 - val_loss: 0.0910 - val_accuracy: 0.9820\n",
            "Epoch 25/30\n",
            "391/391 [==============================] - 1s 3ms/step - loss: 0.0306 - accuracy: 0.9911 - val_loss: 0.0915 - val_accuracy: 0.9812\n",
            "Epoch 26/30\n",
            "391/391 [==============================] - 1s 3ms/step - loss: 0.0303 - accuracy: 0.9909 - val_loss: 0.0943 - val_accuracy: 0.9827\n",
            "Epoch 27/30\n",
            "391/391 [==============================] - 1s 4ms/step - loss: 0.0265 - accuracy: 0.9917 - val_loss: 0.0925 - val_accuracy: 0.9811\n",
            "Epoch 28/30\n",
            "391/391 [==============================] - 1s 4ms/step - loss: 0.0281 - accuracy: 0.9907 - val_loss: 0.0934 - val_accuracy: 0.9832\n",
            "Epoch 29/30\n",
            "391/391 [==============================] - 1s 3ms/step - loss: 0.0267 - accuracy: 0.9917 - val_loss: 0.0954 - val_accuracy: 0.9820\n",
            "Epoch 30/30\n",
            "391/391 [==============================] - 1s 3ms/step - loss: 0.0266 - accuracy: 0.9921 - val_loss: 0.0986 - val_accuracy: 0.9823\n"
          ]
        }
      ]
    },
    {
      "cell_type": "code",
      "source": [
        "pinta_perdida_entrenamiento_validacion(historia4)"
      ],
      "metadata": {
        "id": "R9pI34Yr1gBO",
        "colab": {
          "base_uri": "https://localhost:8080/",
          "height": 295
        },
        "outputId": "23bc429b-43c4-4a82-f475-8fa3acc00a2d"
      },
      "execution_count": null,
      "outputs": [
        {
          "output_type": "display_data",
          "data": {
            "text/plain": [
              "<Figure size 432x288 with 1 Axes>"
            ],
            "image/png": "[encoded data removed]"
          },
          "metadata": {
            "needs_background": "light"
          }
        }
      ]
    },
    {
      "cell_type": "code",
      "source": [
        "pinta_precision_entrenamiento_validacion(historia4)"
      ],
      "metadata": {
        "id": "EwEIEOKx1lQr",
        "colab": {
          "base_uri": "https://localhost:8080/",
          "height": 295
        },
        "outputId": "402a606a-6f7a-43ed-bcce-c47d7ac6f91a"
      },
      "execution_count": null,
      "outputs": [
        {
          "output_type": "display_data",
          "data": {
            "text/plain": [
              "<Figure size 432x288 with 1 Axes>"
            ],
            "image/png": "[encoded data removed]"
          },
          "metadata": {
            "needs_background": "light"
          }
        }
      ]
    },
    {
      "cell_type": "markdown",
      "source": [
        "### Caso 5: Error de código de regularizador"
      ],
      "metadata": {
        "id": "e6rlKx2nCOgU"
      }
    },
    {
      "cell_type": "code",
      "source": [
        "network5 = crea_modelo(5)"
      ],
      "metadata": {
        "id": "SqGDm8VM1rwR",
        "outputId": "65bfabcb-3c97-4bb4-e963-657a622fbb2f",
        "colab": {
          "base_uri": "https://localhost:8080/"
        }
      },
      "execution_count": null,
      "outputs": [
        {
          "output_type": "stream",
          "name": "stdout",
          "text": [
            "Error, el valor del regulizador debe ser entre 0 y 4. \n",
            " \n"
          ]
        }
      ]
    },
    {
      "cell_type": "markdown",
      "source": [
        "### CONCLUSIONES"
      ],
      "metadata": {
        "id": "IklUu29cCcVe"
      }
    },
    {
      "cell_type": "markdown",
      "source": [],
      "metadata": {
        "id": "cB_OYjjaChzN"
      }
    }
  ]
}